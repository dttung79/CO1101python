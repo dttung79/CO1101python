{
 "cells": [
  {
   "cell_type": "code",
   "execution_count": 4,
   "metadata": {},
   "outputs": [],
   "source": [
    "def print_line(n, symbol):\n",
    "    for i in range(n):\n",
    "        print(symbol, end=\" \")"
   ]
  },
  {
   "cell_type": "code",
   "execution_count": null,
   "metadata": {},
   "outputs": [],
   "source": [
    "n = int(input(\"Enter a number: \"))\n",
    "for i in range(1, n+1):\n",
    "    print_line(i, '*')\n",
    "    print()"
   ]
  },
  {
   "cell_type": "code",
   "execution_count": 9,
   "metadata": {},
   "outputs": [],
   "source": [
    "def print_triangle(n, mode, symbol):\n",
    "    if mode not in ('normal', 'reverse', 'upsidedown'):\n",
    "        print(\"Invalid mode\")\n",
    "        return\n",
    "    if mode == 'normal':\n",
    "        for i in range(1, n+1):\n",
    "            print_line(i, symbol)\n",
    "            print()\n",
    "    elif mode == 'reversed':\n",
    "        for i in range(1, n+1):\n",
    "            print_line(n-i, ' ')    # print line of n-i spaces\n",
    "            print_line(i, symbol)   # print line of i symbols\n",
    "            print()\n",
    "    elif mode == 'upsidedown':\n",
    "        for i in range(n, 0, -1):\n",
    "            print_line(i, symbol)\n",
    "            print()"
   ]
  },
  {
   "cell_type": "code",
   "execution_count": 12,
   "metadata": {},
   "outputs": [
    {
     "name": "stdout",
     "output_type": "stream",
     "text": [
      "? ? ? ? ? \n",
      "? ? ? ? \n",
      "? ? ? \n",
      "? ? \n",
      "? \n"
     ]
    }
   ],
   "source": [
    "print_triangle(5, 'upsidedown', '?')"
   ]
  },
  {
   "cell_type": "code",
   "execution_count": 2,
   "metadata": {},
   "outputs": [],
   "source": [
    "def is_prime(n):\n",
    "    if n < 2:\n",
    "        return False\n",
    "    for i in range(2, int(n**0.5)+1):\n",
    "        if n % i == 0:\n",
    "            return False\n",
    "    return True"
   ]
  },
  {
   "cell_type": "code",
   "execution_count": 20,
   "metadata": {},
   "outputs": [
    {
     "name": "stdout",
     "output_type": "stream",
     "text": [
      "  2   3   5   7  11 \n",
      " 13  17  19  23  29 \n",
      " 31  37  41  43  47 \n",
      " 53  59  61  67  71 \n",
      " 73  79  83  89  97 \n"
     ]
    }
   ],
   "source": [
    "def print_primes(n, m):\n",
    "    counter = 0\n",
    "    for i in range(2, n+1):\n",
    "        if is_prime(i):\n",
    "            counter += 1\n",
    "            print(f'{i:3d}', end=' ')\n",
    "            if counter % m == 0:\n",
    "                print()\n",
    "\n",
    "print_primes(100, 5)"
   ]
  },
  {
   "cell_type": "code",
   "execution_count": 9,
   "metadata": {},
   "outputs": [
    {
     "name": "stdout",
     "output_type": "stream",
     "text": [
      "0.2\n"
     ]
    }
   ],
   "source": [
    "n = int(input(\"Enter a number: \"))\n",
    "print(1/n)"
   ]
  }
 ],
 "metadata": {
  "kernelspec": {
   "display_name": "Python 3.9.12 64-bit",
   "language": "python",
   "name": "python3"
  },
  "language_info": {
   "codemirror_mode": {
    "name": "ipython",
    "version": 3
   },
   "file_extension": ".py",
   "mimetype": "text/x-python",
   "name": "python",
   "nbconvert_exporter": "python",
   "pygments_lexer": "ipython3",
   "version": "3.9.12"
  },
  "orig_nbformat": 4,
  "vscode": {
   "interpreter": {
    "hash": "aee8b7b246df8f9039afb4144a1f6fd8d2ca17a180786b69acc140d282b71a49"
   }
  }
 },
 "nbformat": 4,
 "nbformat_minor": 2
}
