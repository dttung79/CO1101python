{
 "cells": [
  {
   "cell_type": "code",
   "execution_count": 1,
   "metadata": {},
   "outputs": [],
   "source": [
    "PEPSI_PRICE = 1.5\n",
    "ORANGE_PRICE = 2.0\n",
    "WATER_PRICE = 0.5\n",
    "PEPSI_CHOICE = 1\n",
    "ORANGE_CHOICE = 2\n",
    "WATER_CHOICE = 3\n",
    "\n",
    "def print_drinks():\n",
    "    print('Drinks Menu')\n",
    "    print(f'{PEPSI_CHOICE}. Pepsi (${PEPSI_PRICE})')\n",
    "    print(f'{ORANGE_CHOICE}. Orange (${ORANGE_PRICE})')\n",
    "    print(f'{WATER_CHOICE}. Water (${WATER_PRICE})')\n",
    "\n",
    "def get_choice():\n",
    "    # ask user to enter a choice, validate and return a valid choice\n",
    "    choice = int(input('Your choice: '))\n",
    "    return choice\n",
    "\n",
    "def get_ndrinks():\n",
    "    # ask user to enter number of drinks (1-5), validate and return a valid number\n",
    "    ndrinks = int(input('Number of drinks: '))\n",
    "    return ndrinks\n",
    "\n",
    "def cal_payment(choice, ndrinks):\n",
    "    # calculate and return payment\n",
    "    if choice == PEPSI_CHOICE:\n",
    "        payment = PEPSI_PRICE * ndrinks\n",
    "    elif choice == ORANGE_CHOICE:\n",
    "        payment = ORANGE_PRICE * ndrinks\n",
    "    elif choice == WATER_CHOICE:\n",
    "        payment = WATER_PRICE * ndrinks\n",
    "    \n",
    "    return payment\n",
    "\n",
    "def pay(payment):\n",
    "    # ask user to enter amount of money, calculate and print the change\n",
    "    print(f'You need to pay ${payment}')\n",
    "    amount = int(input('Insert money: '))\n",
    "    change = amount - payment\n",
    "    if change > 0:\n",
    "        print(f'Your change: ${change}')"
   ]
  },
  {
   "cell_type": "code",
   "execution_count": 2,
   "metadata": {},
   "outputs": [
    {
     "name": "stdout",
     "output_type": "stream",
     "text": [
      "Drinks Menu\n",
      "1. Pepsi ($1.5)\n",
      "2. Orange ($2.0)\n",
      "3. Water ($0.5)\n",
      "You need to pay $3.0\n",
      "Your change: $2.0\n"
     ]
    }
   ],
   "source": [
    "print_drinks()\n",
    "choice = get_choice()\n",
    "ndrinks = get_ndrinks()\n",
    "payment = cal_payment(choice, ndrinks)\n",
    "pay(payment)"
   ]
  }
 ],
 "metadata": {
  "kernelspec": {
   "display_name": "Python 3.9.12 64-bit",
   "language": "python",
   "name": "python3"
  },
  "language_info": {
   "codemirror_mode": {
    "name": "ipython",
    "version": 3
   },
   "file_extension": ".py",
   "mimetype": "text/x-python",
   "name": "python",
   "nbconvert_exporter": "python",
   "pygments_lexer": "ipython3",
   "version": "3.9.12"
  },
  "orig_nbformat": 4,
  "vscode": {
   "interpreter": {
    "hash": "aee8b7b246df8f9039afb4144a1f6fd8d2ca17a180786b69acc140d282b71a49"
   }
  }
 },
 "nbformat": 4,
 "nbformat_minor": 2
}
