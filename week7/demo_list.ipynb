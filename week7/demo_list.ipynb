{
 "cells": [
  {
   "cell_type": "code",
   "execution_count": 6,
   "metadata": {},
   "outputs": [
    {
     "name": "stdout",
     "output_type": "stream",
     "text": [
      "[1, 2, 3, 4, 4, 9, 10]\n",
      "7\n"
     ]
    }
   ],
   "source": [
    "numbers = [1, 2, 3, 4, 4, 9, 10]\n",
    "print(numbers, len(numbers), sep='\\n')"
   ]
  },
  {
   "cell_type": "code",
   "execution_count": 11,
   "metadata": {},
   "outputs": [
    {
     "name": "stdout",
     "output_type": "stream",
     "text": [
      "['Mike', 'Anna', 'John']\n",
      "John John\n",
      "Mike Mike\n"
     ]
    }
   ],
   "source": [
    "names = ['Mike', 'Anna', 'John']\n",
    "print(names)\n",
    "print(names[2], names[-1])\n",
    "print(names[0], names[-3])"
   ]
  },
  {
   "cell_type": "code",
   "execution_count": 13,
   "metadata": {},
   "outputs": [
    {
     "name": "stdout",
     "output_type": "stream",
     "text": [
      "[]\n",
      "[3, 3, 3, 3, 3]\n"
     ]
    }
   ],
   "source": [
    "empty_list = []\n",
    "print(empty_list)\n",
    "trees = [3] * 5\n",
    "print(trees)"
   ]
  },
  {
   "cell_type": "code",
   "execution_count": null,
   "metadata": {},
   "outputs": [],
   "source": [
    "# Popular problems with collections\n",
    "# 1. Check for an item in a list\n",
    "# 2. Traverse a list\n",
    "# 3. Find the index of an item in a list\n",
    "# 4. Sum all the items in a list\n",
    "# 5. Find the largest / smallest item in a list"
   ]
  },
  {
   "cell_type": "code",
   "execution_count": 17,
   "metadata": {},
   "outputs": [
    {
     "name": "stdout",
     "output_type": "stream",
     "text": [
      "Found John in the list\n",
      "Found John in the list\n"
     ]
    }
   ],
   "source": [
    "# 1. Check for an item in a list\n",
    "names = ['Mike', 'Anna', 'John', 'Paul', 'Jenny']\n",
    "n = input('Enter a name: ')\n",
    "if n in names:\n",
    "    print(f'Found {n} in the list')\n",
    "else:\n",
    "    print(f'Not found {n} in the list')\n",
    "\n",
    "# Use for loop to look for an item\n",
    "found = False\n",
    "for name in names:\n",
    "    if n == name:\n",
    "        found = True\n",
    "        break\n",
    "if found:\n",
    "    print(f'Found {n} in the list')\n",
    "else:\n",
    "    print(f'Not found {n} in the list')"
   ]
  },
  {
   "cell_type": "code",
   "execution_count": 18,
   "metadata": {},
   "outputs": [
    {
     "name": "stdout",
     "output_type": "stream",
     "text": [
      "Found John in the list at index 2\n"
     ]
    }
   ],
   "source": [
    "found = False\n",
    "for i in range(len(names)):\n",
    "    if n == names[i]:\n",
    "        found = True\n",
    "        found_index = i\n",
    "        break\n",
    "if found:\n",
    "    print(f'Found {n} in the list at index {found_index}')\n",
    "else:\n",
    "    print(f'Not found {n} in the list')"
   ]
  },
  {
   "cell_type": "code",
   "execution_count": 23,
   "metadata": {},
   "outputs": [
    {
     "name": "stdout",
     "output_type": "stream",
     "text": [
      "Linh: 10\n",
      "Huong: 10\n"
     ]
    }
   ],
   "source": [
    "students = ['Linh', 'Hoa', 'Huong', 'Trung', 'Phuong', 'Duc', 'Duong', 'Long']\n",
    "grades = [10, 9, 10, 6, 7, 8, 4, 8]\n",
    "# Find all students who has grade = 10\n",
    "count = 0\n",
    "for i in range(len(students)):\n",
    "    if grades[i] == 10:    # if grade at i-position equals 10\n",
    "        print(f'{students[i]}: {grades[i]}') # print the student at i-position\n",
    "        count += 1\n",
    "\n",
    "if count == 0:\n",
    "    print('No student has grade = 10')"
   ]
  },
  {
   "cell_type": "code",
   "execution_count": 30,
   "metadata": {},
   "outputs": [
    {
     "name": "stdout",
     "output_type": "stream",
     "text": [
      "Anna sold Samsung, eanrs $22500\n",
      "Mike sold Oppo, eanrs $21000\n"
     ]
    }
   ],
   "source": [
    "sellers = ['John', 'Anna', 'Mike', 'Paul', 'Jenny']\n",
    "products = ['Iphone', 'Samsung', 'Oppo', 'Xiaomi', 'Vivo']\n",
    "prices = [1000, 900, 700, 500, 400]\n",
    "n_sells = [10, 25, 30, 35, 25]\n",
    "# Print sellers who earns more than $18000 & product they sold\n",
    "count = 0\n",
    "for i in range(len(sellers)):\n",
    "    if n_sells[i] * prices[i] > 18000:\n",
    "        print(f'{sellers[i]} sold {products[i]}, eanrs ${n_sells[i] * prices[i]}')\n",
    "        count += 1\n",
    "\n",
    "if count == 0:\n",
    "    print('No seller earns more than $18000')"
   ]
  },
  {
   "cell_type": "code",
   "execution_count": 31,
   "metadata": {},
   "outputs": [
    {
     "name": "stdout",
     "output_type": "stream",
     "text": [
      "Average grade: 7.75\n"
     ]
    }
   ],
   "source": [
    "# Calculate average grades of all students\n",
    "sum_grades = 0\n",
    "for i in range(len(students)):\n",
    "    sum_grades += grades[i]         # add grade at i-position to sum_grades\n",
    "avg = sum_grades / len(students)    # calculate average\n",
    "print(f'Average grade: {avg}')"
   ]
  },
  {
   "cell_type": "code",
   "execution_count": 33,
   "metadata": {},
   "outputs": [
    {
     "name": "stdout",
     "output_type": "stream",
     "text": [
      "There are 5 students who has grade >= 7.75\n",
      "Pass rate = 87.5%\n"
     ]
    }
   ],
   "source": [
    "# Count how many students who has grade >= average grade\n",
    "count_avg = 0\n",
    "for i in range(len(students)):\n",
    "    if grades[i] >= avg:  # if grade at i-position >= average grade\n",
    "        count_avg += 1    # increase count_avg by 1\n",
    "print(f'There are {count_avg} students who has grade >= {avg}')\n",
    "\n",
    "# Calcalate pass rate of the class (grade < 5 considered fail)\n",
    "count_pass = 0\n",
    "for i in range(len(students)):\n",
    "    if grades[i] >= 5:\n",
    "        count_pass += 1\n",
    "\n",
    "pass_rate = count_pass / len(students) * 100\n",
    "print(f'Pass rate = {pass_rate}%')"
   ]
  },
  {
   "cell_type": "code",
   "execution_count": 35,
   "metadata": {},
   "outputs": [
    {
     "name": "stdout",
     "output_type": "stream",
     "text": [
      "[10, 9, 10, 6, 7, 8, 4, 8]\n",
      "Max grade: 10\n",
      "Min grade: 4\n"
     ]
    }
   ],
   "source": [
    "\n",
    "print(grades)\n",
    "print(f'Max grade: {max(grades)}')\n",
    "print(f'Min grade: {min(grades)}')"
   ]
  },
  {
   "cell_type": "code",
   "execution_count": 39,
   "metadata": {},
   "outputs": [
    {
     "name": "stdout",
     "output_type": "stream",
     "text": [
      "Max grade: 10\n",
      "Min grade: 3\n"
     ]
    }
   ],
   "source": [
    "grades = [6, 9, 3, 6, 10, 8, 4, 8]\n",
    "max_grade = grades[0]       # set max to the first grade\n",
    "for g in grades:\n",
    "    if g > max_grade:\n",
    "        max_grade = g       # update max_grade if current grade > max_grade\n",
    "print(f'Max grade: {max_grade}')\n",
    "\n",
    "# Find min grade\n",
    "min_grade = grades[0]       # set max to the first grade\n",
    "for g in grades:\n",
    "    if g < min_grade:\n",
    "        min_grade = g       # update max_grade if current grade > max_grade\n",
    "print(f'Min grade: {min_grade}')"
   ]
  },
  {
   "cell_type": "code",
   "execution_count": 45,
   "metadata": {},
   "outputs": [
    {
     "name": "stdout",
     "output_type": "stream",
     "text": [
      "John sold Iphone, eanrs $10000\n",
      "Anna sold Samsung, eanrs $22500\n",
      "Mike sold Oppo, eanrs $21000\n",
      "Paul sold Xiaomi, eanrs $17500\n",
      "Jenny sold Vivo, eanrs $10000\n",
      "------------------------------\n",
      "Anna earns the most with $22500\n",
      "John earns the least with $10000\n"
     ]
    }
   ],
   "source": [
    "for i in range(len(sellers)):\n",
    "    print(f'{sellers[i]} sold {products[i]}, eanrs ${n_sells[i] * prices[i]}')\n",
    "print('-' * 30)\n",
    "# find seller who earns the most\n",
    "max_earn = n_sells[0] * prices[0]   # set max_earn to the first seller\n",
    "best_seller = sellers[0]            # set best_seller to the first seller\n",
    "for i in range(len(sellers)):\n",
    "    earn = n_sells[i] * prices[i]   # calculate earn of seller at i-position\n",
    "    if earn > max_earn:\n",
    "        max_earn = earn\n",
    "        best_seller = sellers[i]    # update best seller if earn > max_earn\n",
    "print(f'{best_seller} earns the most with ${max_earn}')\n",
    "# find seller who earns the least\n",
    "min_earn = n_sells[0] * prices[0]   # set min_earn to the first seller\n",
    "worst_seller = sellers[0]           # set worst_seller to the first seller\n",
    "for i in range(len(sellers)):\n",
    "    earn = n_sells[i] * prices[i]   # calculate earn of seller at i-position\n",
    "    if earn < min_earn:\n",
    "        min_earn = earn\n",
    "        worst_seller = sellers[i]   # update worst seller if earn < min_earn\n",
    "print(f'{worst_seller} earns the least with ${min_earn}')"
   ]
  },
  {
   "cell_type": "code",
   "execution_count": 49,
   "metadata": {},
   "outputs": [
    {
     "name": "stdout",
     "output_type": "stream",
     "text": [
      "['Apple', 'Orange', 'Banana', 'Pineapple', 'Watermelon']\n",
      "['Apple', 'Banana', 'Orange', 'Pineapple', 'Watermelon']\n",
      "['Apple', 'Banana', 'Orange', 'Pineapple', 'Watermelon']\n"
     ]
    }
   ],
   "source": [
    "fruits = ['Apple', 'Orange', 'Banana', 'Pineapple', 'Watermelon']\n",
    "# srot using sorted function\n",
    "sorted_fruits = list(sorted(fruits)) # function sorted\n",
    "print(fruits)\n",
    "print(sorted_fruits)\n",
    "fruits.sort()                        # method sort\n",
    "print(fruits)"
   ]
  },
  {
   "cell_type": "code",
   "execution_count": 53,
   "metadata": {},
   "outputs": [
    {
     "name": "stdout",
     "output_type": "stream",
     "text": [
      "['Watermelon', 'Pineapple', 'Banana', 'Orange', 'Apple']\n",
      "['Watermelon', 'Pineapple', 'Orange', 'Banana', 'Apple']\n",
      "[]\n"
     ]
    }
   ],
   "source": [
    "fruits = ['Apple', 'Orange', 'Banana', 'Pineapple', 'Watermelon']\n",
    "fruits.reverse()                # reverse the list\n",
    "print(fruits)\n",
    "fruits.sort(reverse=True)       # sort in descending order\n",
    "print(fruits)\n",
    "fruits.clear()                  # remove all items in the list\n",
    "print(fruits)"
   ]
  },
  {
   "cell_type": "code",
   "execution_count": 56,
   "metadata": {},
   "outputs": [
    {
     "name": "stdout",
     "output_type": "stream",
     "text": [
      "['Apple', 'Orange', 'Banana', 'Pineapple', 'Watermelon', 'Mango']\n",
      "['Apple', 'Orange', 'Banana', 'Pineapple', 'Watermelon', 'Mango', 'Peach']\n",
      "['Apple', 'Orange', 'Kiwi', 'Banana', 'Pineapple', 'Watermelon', 'Mango', 'Peach']\n"
     ]
    }
   ],
   "source": [
    "fruits = ['Apple', 'Orange', 'Banana', 'Pineapple', 'Watermelon']\n",
    "# add item to the end of the list\n",
    "fruits.append('Mango')\n",
    "print(fruits)\n",
    "fruits.append('Peach')\n",
    "print(fruits)\n",
    "fruits.insert(2, 'Kiwi')        # insert item at index 2\n",
    "print(fruits)"
   ]
  },
  {
   "cell_type": "code",
   "execution_count": 59,
   "metadata": {},
   "outputs": [
    {
     "name": "stdout",
     "output_type": "stream",
     "text": [
      "Number of moreses: 6\n",
      "Number of dashes: 4\n"
     ]
    }
   ],
   "source": [
    "morses = ['.', '-', '.', '.', '.', '-', '.', '-', '.', '-']\n",
    "# count number of dot\n",
    "print('Number of moreses:', morses.count('.'))\n",
    "# count number of dash\n",
    "print('Number of dashes:', morses.count('-'))"
   ]
  },
  {
   "cell_type": "code",
   "execution_count": 63,
   "metadata": {},
   "outputs": [
    {
     "name": "stdout",
     "output_type": "stream",
     "text": [
      "['Apple', 'Orange', 'Kiwi', 'Pineapple', 'Watermelon', 'Mango', 'Peach']\n",
      "Fruit not found\n"
     ]
    }
   ],
   "source": [
    "print(fruits)\n",
    "name = input('Enter fruit name to remove: ')\n",
    "if name in fruits:\n",
    "    fruits.remove(name)             # remove the first item with value = name\n",
    "    print(fruits)\n",
    "else:\n",
    "    print('Fruit not found')"
   ]
  },
  {
   "cell_type": "code",
   "execution_count": 68,
   "metadata": {},
   "outputs": [
    {
     "name": "stdout",
     "output_type": "stream",
     "text": [
      "['Orange', 'Kiwi', 'Pineapple']\n",
      "['Apple', 'Orange', 'Kiwi', 'Pineapple']\n",
      "['Apple', 'Orange', 'Kiwi', 'Pineapple']\n",
      "['Watermelon', 'Mango', 'Peach']\n",
      "['Watermelon', 'Mango', 'Peach']\n"
     ]
    }
   ],
   "source": [
    "# Slicing simple syntax: list[start:end]\n",
    "print(fruits[1:4])\n",
    "print(fruits[0:4])  # get 4 first items\n",
    "print(fruits[:4])   # get 4 first items\n",
    "print(fruits[4:])   # get 3 last items\n",
    "print(fruits[-3:])  # get 3 last items"
   ]
  },
  {
   "cell_type": "code",
   "execution_count": 71,
   "metadata": {},
   "outputs": [
    {
     "name": "stdout",
     "output_type": "stream",
     "text": [
      "['Apple', 'Kiwi', 'Watermelon', 'Peach']\n",
      "['Apple', 'Kiwi', 'Watermelon', 'Peach']\n",
      "['Orange', 'Pineapple', 'Mango']\n"
     ]
    }
   ],
   "source": [
    "# complete syntax: list[start:end:step]\n",
    "print(fruits[0:7:2])   \n",
    "print(fruits[::2])\n",
    "print(fruits[1::2])"
   ]
  },
  {
   "cell_type": "code",
   "execution_count": 78,
   "metadata": {},
   "outputs": [
    {
     "name": "stdout",
     "output_type": "stream",
     "text": [
      "['Apple', 'Orange', 'Kiwi', 'Pineapple', 'Watermelon', 'Mango', 'Peach']\n",
      "['Peach', 'Mango', 'Watermelon', 'Pineapple', 'Kiwi', 'Orange', 'Apple']\n",
      "['Peach', 'Mango', 'Watermelon']\n"
     ]
    }
   ],
   "source": [
    "print(fruits)\n",
    "# using negative step to reverse the list\n",
    "print(fruits[::-1]) # fruits[7:0:-1]\n",
    "# reverse half of the list\n",
    "m = len(fruits) // 2\n",
    "print(fruits[:m:-1])\n"
   ]
  }
 ],
 "metadata": {
  "kernelspec": {
   "display_name": "Python 3.9.12 64-bit",
   "language": "python",
   "name": "python3"
  },
  "language_info": {
   "codemirror_mode": {
    "name": "ipython",
    "version": 3
   },
   "file_extension": ".py",
   "mimetype": "text/x-python",
   "name": "python",
   "nbconvert_exporter": "python",
   "pygments_lexer": "ipython3",
   "version": "3.9.12"
  },
  "orig_nbformat": 4,
  "vscode": {
   "interpreter": {
    "hash": "aee8b7b246df8f9039afb4144a1f6fd8d2ca17a180786b69acc140d282b71a49"
   }
  }
 },
 "nbformat": 4,
 "nbformat_minor": 2
}
