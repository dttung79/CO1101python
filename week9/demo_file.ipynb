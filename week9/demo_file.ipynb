{
 "cells": [
  {
   "cell_type": "code",
   "execution_count": null,
   "metadata": {},
   "outputs": [],
   "source": [
    "try:\n",
    "    f = open('languages.txt', 'r')\n",
    "    contents = f.read() # read all the contents of the file into a string\n",
    "    print(contents)\n",
    "    f.close()\n",
    "except FileNotFoundError:\n",
    "    print('File not found')"
   ]
  },
  {
   "cell_type": "code",
   "execution_count": null,
   "metadata": {},
   "outputs": [],
   "source": [
    "try:\n",
    "    f = open('languages.txt', 'r')\n",
    "    contents = f.readlines() # readlines() returns a list of lines\n",
    "    print(len(contents))\n",
    "    for language in contents:\n",
    "        print(language[:-1]) # remove the newline character at the latst character\n",
    "    f.close()\n",
    "except FileNotFoundError:\n",
    "    print('File not found')"
   ]
  },
  {
   "cell_type": "code",
   "execution_count": null,
   "metadata": {},
   "outputs": [],
   "source": [
    "# Exercise 1\n",
    "# Read agencies.txt, find all the agencies that have the word \"Authority\" in their name\n",
    "try:\n",
    "    f = open('agencies.txt', 'r')\n",
    "    contents = f.readlines()\n",
    "    for agency in contents:\n",
    "        if 'Authority' in agency:\n",
    "            print(agency[:-1])\n",
    "    f.close()\n",
    "except FileNotFoundError:\n",
    "    print('File not found')"
   ]
  },
  {
   "cell_type": "code",
   "execution_count": null,
   "metadata": {},
   "outputs": [],
   "source": [
    "# Exercise 2\n",
    "# Read authors.txt, print out the authors' names and their email addresses\n",
    "try:\n",
    "    f = open('authors.txt', 'r')\n",
    "    contents = f.readlines()\n",
    "    # remove 3 first lines using slicing.\n",
    "    contents = contents[3:]\n",
    "    for author in contents:\n",
    "        # split by '<' character\n",
    "        a = author.split('<')\n",
    "        author = a[0][:-1]\n",
    "        email = a[1][:-2]\n",
    "        print(f'{author}: {email}')\n",
    "except FileNotFoundError:\n",
    "    print('File not found')"
   ]
  },
  {
   "cell_type": "code",
   "execution_count": 15,
   "metadata": {},
   "outputs": [],
   "source": [
    "# recursive function: a function that calls itself\n",
    "def factorial(n):\n",
    "    if n == 0:\n",
    "        return 1\n",
    "    return n * factorial(n-1)"
   ]
  },
  {
   "cell_type": "code",
   "execution_count": 18,
   "metadata": {},
   "outputs": [
    {
     "name": "stdout",
     "output_type": "stream",
     "text": [
      "5! = 120\n"
     ]
    }
   ],
   "source": [
    "n = int(input('Enter a number: '))\n",
    "print(f'{n}! = {factorial(n)}')"
   ]
  },
  {
   "cell_type": "code",
   "execution_count": 20,
   "metadata": {},
   "outputs": [],
   "source": [
    "# write a recursive function to calculate sum from 1 to n\n",
    "def rec_sum(n):\n",
    "    if n == 1:\n",
    "        return 1\n",
    "    return n + rec_sum(n-1) # tail recursive"
   ]
  },
  {
   "cell_type": "code",
   "execution_count": 21,
   "metadata": {},
   "outputs": [
    {
     "name": "stdout",
     "output_type": "stream",
     "text": [
      "Sum from 1 to 10 = 55\n"
     ]
    }
   ],
   "source": [
    "n = 10\n",
    "print(f'Sum from 1 to {n} = {rec_sum(n)}')"
   ]
  },
  {
   "cell_type": "code",
   "execution_count": 23,
   "metadata": {},
   "outputs": [],
   "source": [
    "def pyramid(n):\n",
    "    if n == 1:\n",
    "        return 1\n",
    "    return pyramid(n-1) + n*n # non-tail recursive"
   ]
  },
  {
   "cell_type": "code",
   "execution_count": 24,
   "metadata": {},
   "outputs": [
    {
     "name": "stdout",
     "output_type": "stream",
     "text": [
      "1\n",
      "5\n",
      "14\n",
      "30\n"
     ]
    }
   ],
   "source": [
    "print(pyramid(1), pyramid(2), pyramid(3), pyramid(4), sep='\\n')"
   ]
  },
  {
   "cell_type": "code",
   "execution_count": 26,
   "metadata": {},
   "outputs": [],
   "source": [
    "def fibonacci(n):\n",
    "    if n == 0 or n == 1:\n",
    "        return n\n",
    "    return fibonacci(n-1) + fibonacci(n-2)"
   ]
  },
  {
   "cell_type": "code",
   "execution_count": 30,
   "metadata": {},
   "outputs": [
    {
     "name": "stdout",
     "output_type": "stream",
     "text": [
      "F40: 102334155\n"
     ]
    }
   ],
   "source": [
    "n = 40\n",
    "print(f'F{n}: {fibonacci(n)}')"
   ]
  },
  {
   "cell_type": "code",
   "execution_count": 37,
   "metadata": {},
   "outputs": [
    {
     "name": "stdout",
     "output_type": "stream",
     "text": [
      "Current dir: .\n",
      "Parent dir: ..\n",
      "All items in current directory:\n",
      "['languages.txt', 'demo_file.ipynb', '.ipynb_checkpoints', 'agencies.txt', 'authors.txt']\n",
      "languages.txt is a file\n",
      "demo_file.ipynb is a file\n",
      ".ipynb_checkpoints is a directory\n",
      "agencies.txt is a file\n",
      "authors.txt is a file\n"
     ]
    }
   ],
   "source": [
    "import os\n",
    "\n",
    "print('Current dir:', os.curdir)\n",
    "print('Parent dir:', os.pardir)\n",
    "\n",
    "directories = os.listdir(os.curdir)\n",
    "print('All items in current directory:')\n",
    "print(directories)\n",
    "\n",
    "for d in directories:\n",
    "    if os.path.isdir(d):\n",
    "        print(f'{d} is a directory')\n",
    "    else:\n",
    "        print(f'{d} is a file')"
   ]
  },
  {
   "cell_type": "code",
   "execution_count": 40,
   "metadata": {},
   "outputs": [],
   "source": [
    "def list_files(path):\n",
    "    if os.path.isdir(path):             # check if path is a directory\n",
    "        print(f'+ {path}')              # print the directory name\n",
    "        files = os.listdir(path)        # get all the files in the directory\n",
    "        for f in files:\n",
    "            list_files(path + '/' + f)  # recursive call to list_files()\n",
    "    else:\n",
    "        print(f'- {path}')              # print the file name"
   ]
  },
  {
   "cell_type": "code",
   "execution_count": 41,
   "metadata": {},
   "outputs": [
    {
     "name": "stdout",
     "output_type": "stream",
     "text": [
      "+ /Users/tungdt/Test\n",
      "- /Users/tungdt/Test/.DS_Store\n",
      "+ /Users/tungdt/Test/textfiles\n",
      "- /Users/tungdt/Test/textfiles/c.txt\n",
      "- /Users/tungdt/Test/textfiles/b.txt\n",
      "- /Users/tungdt/Test/textfiles/a.txt\n",
      "+ /Users/tungdt/Test/scripts\n",
      "- /Users/tungdt/Test/scripts/.DS_Store\n",
      "+ /Users/tungdt/Test/scripts/empty\n",
      "- /Users/tungdt/Test/scripts/empty/.DS_Store\n",
      "+ /Users/tungdt/Test/scripts/empty/empty2\n",
      "- /Users/tungdt/Test/scripts/empty/empty2/demo2.sh\n",
      "- /Users/tungdt/Test/scripts/demo.sh\n",
      "- /Users/tungdt/Test/ps.txt\n"
     ]
    }
   ],
   "source": [
    "path = input('Enter a path: ')\n",
    "list_files(path)"
   ]
  }
 ],
 "metadata": {
  "kernelspec": {
   "display_name": "Python 3.9.12 64-bit",
   "language": "python",
   "name": "python3"
  },
  "language_info": {
   "codemirror_mode": {
    "name": "ipython",
    "version": 3
   },
   "file_extension": ".py",
   "mimetype": "text/x-python",
   "name": "python",
   "nbconvert_exporter": "python",
   "pygments_lexer": "ipython3",
   "version": "3.9.12"
  },
  "orig_nbformat": 4,
  "vscode": {
   "interpreter": {
    "hash": "aee8b7b246df8f9039afb4144a1f6fd8d2ca17a180786b69acc140d282b71a49"
   }
  }
 },
 "nbformat": 4,
 "nbformat_minor": 2
}
