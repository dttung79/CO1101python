{
 "cells": [
  {
   "cell_type": "code",
   "execution_count": 1,
   "metadata": {},
   "outputs": [
    {
     "name": "stdout",
     "output_type": "stream",
     "text": [
      "Hello World\n"
     ]
    }
   ],
   "source": [
    "def say_hi():\n",
    "    print(\"Hello World\")\n",
    "\n",
    "say_hi()"
   ]
  },
  {
   "cell_type": "code",
   "execution_count": 2,
   "metadata": {},
   "outputs": [
    {
     "name": "stdout",
     "output_type": "stream",
     "text": [
      "Hello World\n"
     ]
    }
   ],
   "source": [
    "say_hi()"
   ]
  },
  {
   "cell_type": "code",
   "execution_count": 3,
   "metadata": {},
   "outputs": [],
   "source": [
    "def say_hi(name):\n",
    "    print('Hello', name)"
   ]
  },
  {
   "cell_type": "code",
   "execution_count": 4,
   "metadata": {},
   "outputs": [
    {
     "name": "stdout",
     "output_type": "stream",
     "text": [
      "Hello John\n"
     ]
    }
   ],
   "source": [
    "say_hi('John')"
   ]
  },
  {
   "cell_type": "code",
   "execution_count": 5,
   "metadata": {},
   "outputs": [
    {
     "name": "stdout",
     "output_type": "stream",
     "text": [
      "Hello Peter\n"
     ]
    }
   ],
   "source": [
    "say_hi('Peter')"
   ]
  },
  {
   "cell_type": "code",
   "execution_count": 20,
   "metadata": {},
   "outputs": [],
   "source": [
    "def print_mult_table(n):\n",
    "    for i in range(1, 11):\n",
    "        print('{:3d} x{:3d} ={:3d}'.format(n, i, n * i))"
   ]
  },
  {
   "cell_type": "code",
   "execution_count": 21,
   "metadata": {},
   "outputs": [
    {
     "name": "stdout",
     "output_type": "stream",
     "text": [
      "  4 x  1 =  4\n",
      "  4 x  2 =  8\n",
      "  4 x  3 = 12\n",
      "  4 x  4 = 16\n",
      "  4 x  5 = 20\n",
      "  4 x  6 = 24\n",
      "  4 x  7 = 28\n",
      "  4 x  8 = 32\n",
      "  4 x  9 = 36\n",
      "  4 x 10 = 40\n"
     ]
    }
   ],
   "source": [
    "n = int(input('Enter a number: '))\n",
    "print_mult_table(n)"
   ]
  },
  {
   "cell_type": "code",
   "execution_count": 32,
   "metadata": {},
   "outputs": [],
   "source": [
    "# Write a function to print a triangle of stars\n",
    "\n",
    "def print_symbol_triangle(n_rows, symbol):\n",
    "    for i in range(1, n_rows + 1):\n",
    "        for j in range(i):\n",
    "            print(symbol, end=' ')\n",
    "        print()"
   ]
  },
  {
   "cell_type": "code",
   "execution_count": 34,
   "metadata": {},
   "outputs": [
    {
     "name": "stdout",
     "output_type": "stream",
     "text": [
      "? \n",
      "? ? \n",
      "? ? ? \n"
     ]
    }
   ],
   "source": [
    "print_symbol_triangle(3, '?')"
   ]
  },
  {
   "cell_type": "code",
   "execution_count": 2,
   "metadata": {},
   "outputs": [],
   "source": [
    "import turtle as t\n",
    "# Write a function to draw a regular polygon\n",
    "# Accept 3 parameters for:\n",
    "# - number of sides\n",
    "# - color of the polygon\n",
    "# - pen width\n",
    "def draw_poloygon(n_sides, color, pen_width):\n",
    "    t.pencolor(color) # set color\n",
    "    t.pensize(pen_width) # set pen size\n",
    "    for i in range(n_sides):\n",
    "        t.forward(100)\n",
    "        t.left(360 // n_sides)\n",
    "    "
   ]
  },
  {
   "cell_type": "code",
   "execution_count": null,
   "metadata": {},
   "outputs": [],
   "source": [
    "n = int(input('Enter number of sides: '))\n",
    "color = input('Enter color: ')\n",
    "pen_width = int(input('Enter pen width: '))\n",
    "draw_poloygon(n, color, pen_width)\n",
    "t.exitonclick()"
   ]
  },
  {
   "cell_type": "code",
   "execution_count": 1,
   "metadata": {},
   "outputs": [],
   "source": [
    "# Viết hàm giải phương trình bậc 2 với 3 tham số a, b, c\n",
    "def solve_quadratic_function(a, b, c):\n",
    "    if a == 0:\n",
    "        print('Not quadratic function')\n",
    "        return\n",
    "    delta = b ** 2 - 4 * a * c\n",
    "    if delta < 0:\n",
    "        print('No solution')\n",
    "    elif delta == 0:\n",
    "        print(f'x0 = {-b / (2 * a)}')\n",
    "    else:\n",
    "        print(f'x1 = {(-b + delta ** 0.5) / (2 * a)}')\n",
    "        print(f'x2 = {(-b - delta ** 0.5) / (2 * a)}')"
   ]
  },
  {
   "cell_type": "code",
   "execution_count": 5,
   "metadata": {},
   "outputs": [
    {
     "name": "stdout",
     "output_type": "stream",
     "text": [
      "x1 = -0.41886116991581024\n",
      "x2 = -3.58113883008419\n"
     ]
    }
   ],
   "source": [
    "a = float(input('Enter a: '))\n",
    "b = float(input('Enter b: '))\n",
    "c = float(input('Enter c: '))\n",
    "solve_quadratic_function(a, b, c)"
   ]
  },
  {
   "cell_type": "code",
   "execution_count": 7,
   "metadata": {},
   "outputs": [],
   "source": [
    "def sum_up_to(n):\n",
    "    total = 0\n",
    "    for i in range(1, n + 1):\n",
    "        total += i\n",
    "    return total"
   ]
  },
  {
   "cell_type": "code",
   "execution_count": 8,
   "metadata": {},
   "outputs": [
    {
     "name": "stdout",
     "output_type": "stream",
     "text": [
      "Sum from 1 to 10 = 55\n"
     ]
    }
   ],
   "source": [
    "n = int(input('Enter n: '))\n",
    "s = sum_up_to(n)\n",
    "print(f'Sum from 1 to {n} = {s}')"
   ]
  },
  {
   "cell_type": "code",
   "execution_count": 9,
   "metadata": {},
   "outputs": [],
   "source": [
    "# Viết hàm tính giai thừa n!\n",
    "def factorial(n):\n",
    "    total = 1\n",
    "    for i in range(1, n + 1):\n",
    "        total *= i\n",
    "    return total"
   ]
  },
  {
   "cell_type": "code",
   "execution_count": 12,
   "metadata": {},
   "outputs": [
    {
     "name": "stdout",
     "output_type": "stream",
     "text": [
      "5! = 120\n"
     ]
    }
   ],
   "source": [
    "n = int(input('Enter n: '))\n",
    "f = factorial(n)\n",
    "print(f'{n}! = {f}')"
   ]
  },
  {
   "cell_type": "code",
   "execution_count": 14,
   "metadata": {},
   "outputs": [],
   "source": [
    "# Viết hàm tính diện tích tam giác nếu 3 cạnh thoả mãn điều kiện\n",
    "# và trả về 0 nếu 3 cạnh không thoả mãn điều kiện\n",
    "def triangle_area(a, b, c):\n",
    "    if a <= 0 or b <= 0 or c <= 0:\n",
    "        return 0\n",
    "    if a + b <= c or a + c <= b or b + c <= a:\n",
    "        return 0\n",
    "    \n",
    "    # 3 sides are valid\n",
    "    p = (a + b + c) / 2\n",
    "    s = (p * (p - a) * (p - b) * (p - c)) ** 0.5\n",
    "    return s"
   ]
  },
  {
   "cell_type": "code",
   "execution_count": 17,
   "metadata": {},
   "outputs": [
    {
     "name": "stdout",
     "output_type": "stream",
     "text": [
      "Area =  6.0\n"
     ]
    }
   ],
   "source": [
    "a = int(input('Enter a: '))\n",
    "b = int(input('Enter b: '))\n",
    "c = int(input('Enter c: '))\n",
    "s = triangle_area(a, b, c)\n",
    "print('Area = ', s)"
   ]
  }
 ],
 "metadata": {
  "kernelspec": {
   "display_name": "Python 3.9.12 64-bit",
   "language": "python",
   "name": "python3"
  },
  "language_info": {
   "codemirror_mode": {
    "name": "ipython",
    "version": 3
   },
   "file_extension": ".py",
   "mimetype": "text/x-python",
   "name": "python",
   "nbconvert_exporter": "python",
   "pygments_lexer": "ipython3",
   "version": "3.9.12"
  },
  "orig_nbformat": 4,
  "vscode": {
   "interpreter": {
    "hash": "aee8b7b246df8f9039afb4144a1f6fd8d2ca17a180786b69acc140d282b71a49"
   }
  }
 },
 "nbformat": 4,
 "nbformat_minor": 2
}
