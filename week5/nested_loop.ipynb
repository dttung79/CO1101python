{
 "cells": [
  {
   "cell_type": "code",
   "execution_count": null,
   "metadata": {},
   "outputs": [],
   "source": [
    "n = int(input('How many stars do you want? '))\n",
    "m = int(input('How many lines do you want? '))\n",
    "\n",
    "for i in range(m):\n",
    "    for j in range(n):\n",
    "        print('*', end=' ')\n",
    "    print()"
   ]
  },
  {
   "cell_type": "code",
   "execution_count": 3,
   "metadata": {},
   "outputs": [
    {
     "name": "stdout",
     "output_type": "stream",
     "text": [
      "* \n",
      "* * \n",
      "* * * \n",
      "* * * * \n"
     ]
    }
   ],
   "source": [
    "# Enter n: 4\n",
    "# *\n",
    "# * *\n",
    "# * * *\n",
    "# * * * *\n",
    "n = int(input('How many rows do you want? '))\n",
    "for i in range(1, n+1):\n",
    "    for j in range(i):\n",
    "        print('*', end=' ')\n",
    "    print()"
   ]
  },
  {
   "cell_type": "code",
   "execution_count": null,
   "metadata": {},
   "outputs": [],
   "source": [
    "# Print triangle of numbers\n",
    "n = int(input('How many rows do you want? '))\n",
    "for i in range(1, n+1):\n",
    "    for j in range(i):\n",
    "        print(i, end=' ')\n",
    "    print()"
   ]
  },
  {
   "cell_type": "code",
   "execution_count": 6,
   "metadata": {},
   "outputs": [
    {
     "name": "stdout",
     "output_type": "stream",
     "text": [
      "* * * * \n",
      "* * * \n",
      "* * \n",
      "* \n"
     ]
    }
   ],
   "source": [
    "# Print reversed triangle\n",
    "n = int(input('How many rows do you want? '))\n",
    "for i in range(1, n+1):\n",
    "    for j in range(n - i + 1):\n",
    "        print('*', end=' ')\n",
    "    print()"
   ]
  },
  {
   "cell_type": "code",
   "execution_count": 7,
   "metadata": {},
   "outputs": [
    {
     "name": "stdout",
     "output_type": "stream",
     "text": [
      "5 x 1 = 5\n",
      "5 x 2 = 10\n",
      "5 x 3 = 15\n",
      "5 x 4 = 20\n",
      "5 x 5 = 25\n",
      "5 x 6 = 30\n",
      "5 x 7 = 35\n",
      "5 x 8 = 40\n",
      "5 x 9 = 45\n",
      "5 x 10 = 50\n",
      "8 x 1 = 8\n",
      "8 x 2 = 16\n",
      "8 x 3 = 24\n",
      "8 x 4 = 32\n",
      "8 x 5 = 40\n",
      "8 x 6 = 48\n",
      "8 x 7 = 56\n",
      "8 x 8 = 64\n",
      "8 x 9 = 72\n",
      "8 x 10 = 80\n"
     ]
    }
   ],
   "source": [
    "# Ask user to enter number n, then print the multiplication table for numbers from 1 to n\n",
    "# Ask user if he/she wants to continue with another number or not\n",
    "# If user chooses to continue, print another multiplication table again\n",
    "answ = 'y'\n",
    "\n",
    "while answ == 'y':\n",
    "    n = int(input('Enter a number: '))\n",
    "    for i in range(1, 11):\n",
    "        print(f'{n} x {i} = {n*i}')\n",
    "    answ = input('Do you want to continue? (y/n): ')"
   ]
  },
  {
   "cell_type": "code",
   "execution_count": 9,
   "metadata": {},
   "outputs": [
    {
     "name": "stdout",
     "output_type": "stream",
     "text": [
      "11 is a prime\n"
     ]
    }
   ],
   "source": [
    "# Check if n is prime\n",
    "n = int(input('Enter a number (n > 2): '))\n",
    "is_prime = True\n",
    "\n",
    "for i in range(2, n - 1):\n",
    "    if n % i == 0:\n",
    "        print(f'{n} is not a prime')\n",
    "        is_prime = False\n",
    "        break\n",
    "\n",
    "if is_prime:\n",
    "    print(f'{n} is a prime')"
   ]
  },
  {
   "cell_type": "code",
   "execution_count": 16,
   "metadata": {},
   "outputs": [
    {
     "name": "stdout",
     "output_type": "stream",
     "text": [
      "  2   3   5   7  11 \n",
      " 13  17  19  23  29 \n",
      " 31  37  41  43  47 \n",
      " 53  59  61  67  71 \n",
      " 73  79  83  89  97 \n"
     ]
    }
   ],
   "source": [
    "counter = 0\n",
    "for n in range(2, 100):\n",
    "    is_prime = True\n",
    "    for i in range(2, n - 1):\n",
    "        if n % i == 0:\n",
    "            is_prime = False\n",
    "            break\n",
    "    if is_prime:\n",
    "        print('{:3d}'.format(n), end=' ')\n",
    "        counter = counter + 1\n",
    "        if counter % 5 == 0:\n",
    "            print()"
   ]
  }
 ],
 "metadata": {
  "kernelspec": {
   "display_name": "Python 3.9.12 64-bit",
   "language": "python",
   "name": "python3"
  },
  "language_info": {
   "codemirror_mode": {
    "name": "ipython",
    "version": 3
   },
   "file_extension": ".py",
   "mimetype": "text/x-python",
   "name": "python",
   "nbconvert_exporter": "python",
   "pygments_lexer": "ipython3",
   "version": "3.9.12"
  },
  "orig_nbformat": 4,
  "vscode": {
   "interpreter": {
    "hash": "aee8b7b246df8f9039afb4144a1f6fd8d2ca17a180786b69acc140d282b71a49"
   }
  }
 },
 "nbformat": 4,
 "nbformat_minor": 2
}
