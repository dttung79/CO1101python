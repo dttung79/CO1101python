{
 "cells": [
  {
   "cell_type": "code",
   "execution_count": 4,
   "metadata": {},
   "outputs": [
    {
     "name": "stdout",
     "output_type": "stream",
     "text": [
      "|      3.14|\n",
      "|  3.14e+00|\n",
      "|   314.16%|\n"
     ]
    }
   ],
   "source": [
    "# format a number\n",
    "PI = 3.141592653589793\n",
    "# print PI with 2 decimal places in 10 spaces\n",
    "print(\"|{:10.2f}|\".format(PI))\n",
    "# print PI using scientific notation\n",
    "print(\"|{:10.2e}|\".format(PI))\n",
    "# print PI using percent notation\n",
    "print(\"|{:10.2%}|\".format(PI))\n"
   ]
  },
  {
   "cell_type": "code",
   "execution_count": 5,
   "metadata": {},
   "outputs": [
    {
     "name": "stdout",
     "output_type": "stream",
     "text": [
      "|3.14      |\n",
      "|      3.14|\n",
      "|   3.14   |\n"
     ]
    }
   ],
   "source": [
    "# print PI with 2 decimal places in 10 spaces, left justified\n",
    "print(\"|{:<10.2f}|\".format(PI))\n",
    "# print PI with 2 decimal places in 10 spaces, right justified\n",
    "print(\"|{:>10.2f}|\".format(PI))\n",
    "# print PI with 2 decimal places in 10 spaces, centered\n",
    "print(\"|{:^10.2f}|\".format(PI))"
   ]
  },
  {
   "cell_type": "code",
   "execution_count": 7,
   "metadata": {},
   "outputs": [
    {
     "name": "stdout",
     "output_type": "stream",
     "text": [
      "|hello python        |\n",
      "|        hello python|\n",
      "|    hello python    |\n"
     ]
    }
   ],
   "source": [
    "s = 'hello python'\n",
    "print('|{:<20s}|'.format(s))\n",
    "print('|{:>20s}|'.format(s))\n",
    "print(f'|{s:^20s}|')"
   ]
  },
  {
   "cell_type": "code",
   "execution_count": 12,
   "metadata": {},
   "outputs": [
    {
     "name": "stdout",
     "output_type": "stream",
     "text": [
      "hello python\n",
      "HELLO PYTHON\n",
      "Hello Python\n",
      "hELlO PYtHON\n",
      "HelLo pyThon\n"
     ]
    }
   ],
   "source": [
    "s = 'HelLo pyThon'\n",
    "# convert s to lower case\n",
    "print(s.lower())\n",
    "# convert s to upper case\n",
    "print(s.upper())\n",
    "# convert s to title case\n",
    "print(s.title())  \n",
    "# swap uppercases and lowercases\n",
    "print(s.swapcase())\n",
    "print(s) # string is immutable, cannot be changed"
   ]
  },
  {
   "cell_type": "code",
   "execution_count": 19,
   "metadata": {},
   "outputs": [
    {
     "name": "stdout",
     "output_type": "stream",
     "text": [
      "|    hello   python   world      |\n",
      "|hello   python   world      |\n",
      "|    hello   python   world|\n",
      "|hello   python   world|\n",
      "hello   python   world\n",
      "hello python world\n"
     ]
    }
   ],
   "source": [
    "s = '    hello   python   world      '\n",
    "print(f'|{s}|')\n",
    "# remove spaces at the beginning of s\n",
    "print(f'|{s.lstrip()}|')\n",
    "# remove spaces at the end of s\n",
    "print(f'|{s.rstrip()}|')\n",
    "# remove spaces at the beginning and end of s\n",
    "print(f'|{s.strip()}|')\n",
    "# remove repeated spaces in the middle of s\n",
    "s = s.strip()\n",
    "print(s)\n",
    "s = ' '.join(s.split())\n",
    "print(s)"
   ]
  },
  {
   "cell_type": "code",
   "execution_count": 22,
   "metadata": {},
   "outputs": [
    {
     "name": "stdout",
     "output_type": "stream",
     "text": [
      "|John Lennon|\n"
     ]
    }
   ],
   "source": [
    "name = input('Enter your name: ')     # original name, may contain spaces\n",
    "name = ' '.join(name.strip().split()) # remove spaces in name\n",
    "print(f'|{name}|')"
   ]
  },
  {
   "cell_type": "code",
   "execution_count": 23,
   "metadata": {},
   "outputs": [
    {
     "name": "stdout",
     "output_type": "stream",
     "text": [
      "['hello', 'python', 'world']\n"
     ]
    }
   ],
   "source": [
    "s = '  hello   python  world  '\n",
    "print(s.split())"
   ]
  },
  {
   "cell_type": "code",
   "execution_count": 24,
   "metadata": {},
   "outputs": [
    {
     "name": "stdout",
     "output_type": "stream",
     "text": [
      "++hello+++python++world++\n"
     ]
    }
   ],
   "source": [
    "# replace space in s by +\n",
    "print(s.replace(' ', '+'))"
   ]
  },
  {
   "cell_type": "code",
   "execution_count": 28,
   "metadata": {},
   "outputs": [
    {
     "name": "stdout",
     "output_type": "stream",
     "text": [
      "12\n",
      "Vin Diesel\n",
      "Dominic Toretto\n",
      "Longest name: Dominic Toretto\n",
      "Shortest name: John Cena\n"
     ]
    }
   ],
   "source": [
    "# Functions work on strings\n",
    "s = 'hello python'\n",
    "print(len(s)) # length of string\n",
    "names = ['John Cena', 'Dwayne Johnson', 'Dominic Toretto', 'Jason Statham', 'Vin Diesel']\n",
    "print(max(names)) # max by alphabetical order\n",
    "print(min(names)) # min by alphabetical order\n",
    "\n",
    "print('Longest name:', max(names, key=len)) # max by length\n",
    "print('Shortest name:', min(names, key=len)) # min by length"
   ]
  },
  {
   "cell_type": "code",
   "execution_count": 30,
   "metadata": {},
   "outputs": [
    {
     "name": "stdout",
     "output_type": "stream",
     "text": [
      "hellopython\n",
      "hellohellohellohellohello\n"
     ]
    }
   ],
   "source": [
    "# 2 operators can apply to strings\n",
    "s1 = 'hello'\n",
    "s2 = 'python'\n",
    "print(s1 + s2) # concatenation\n",
    "s = 'hello'\n",
    "print(s*5) # repetition"
   ]
  },
  {
   "cell_type": "code",
   "execution_count": 34,
   "metadata": {},
   "outputs": [
    {
     "name": "stdout",
     "output_type": "stream",
     "text": [
      "Bad\n"
     ]
    }
   ],
   "source": [
    "s = 'hellO pythOn'\n",
    "if 'python' in s:\n",
    "    print('Good')\n",
    "else:\n",
    "    print('Bad')"
   ]
  },
  {
   "cell_type": "code",
   "execution_count": 35,
   "metadata": {},
   "outputs": [
    {
     "name": "stdout",
     "output_type": "stream",
     "text": [
      "True\n",
      "False\n",
      "False\n",
      "False\n"
     ]
    }
   ],
   "source": [
    "print('p' in s)\n",
    "print('P' in s)\n",
    "print('o' in s)\n",
    "print('0' in s)"
   ]
  },
  {
   "cell_type": "code",
   "execution_count": 37,
   "metadata": {},
   "outputs": [
    {
     "name": "stdout",
     "output_type": "stream",
     "text": [
      "hello python\n",
      "Number of vowels: 3\n"
     ]
    }
   ],
   "source": [
    "vowels = 'aeiou'\n",
    "s = input('Enter a string: ')\n",
    "print(s)\n",
    "count = 0\n",
    "for c in s:\n",
    "    if c in vowels:\n",
    "        count += 1\n",
    "print(f'Number of vowels: {count}')"
   ]
  },
  {
   "cell_type": "code",
   "execution_count": 41,
   "metadata": {},
   "outputs": [
    {
     "name": "stdout",
     "output_type": "stream",
     "text": [
      "M1nh\n",
      "Invalid name\n"
     ]
    }
   ],
   "source": [
    "name = input('Enter name: ')\n",
    "print(name)\n",
    "if name.isalpha():\n",
    "    print('Valid name')\n",
    "else:\n",
    "    print('Invalid name')"
   ]
  },
  {
   "cell_type": "code",
   "execution_count": 43,
   "metadata": {},
   "outputs": [
    {
     "name": "stdout",
     "output_type": "stream",
     "text": [
      "123-7879-9898\n",
      "Invalid phone number\n"
     ]
    }
   ],
   "source": [
    "phone = input('Enter phone number: ')\n",
    "print(phone)\n",
    "if phone.isdigit():\n",
    "    print('Valid phone number')\n",
    "else:\n",
    "    print('Invalid phone number')"
   ]
  },
  {
   "cell_type": "code",
   "execution_count": 45,
   "metadata": {},
   "outputs": [
    {
     "name": "stdout",
     "output_type": "stream",
     "text": [
      "abc@gmail.com\n",
      "4\n"
     ]
    }
   ],
   "source": [
    "email = input('Enter your gmail: ')\n",
    "print(email)\n",
    "position = email.find('gmail')\n",
    "print(position)"
   ]
  },
  {
   "cell_type": "code",
   "execution_count": 46,
   "metadata": {},
   "outputs": [
    {
     "name": "stdout",
     "output_type": "stream",
     "text": [
      "-1\n"
     ]
    }
   ],
   "source": [
    "position = email.find('yahoo')\n",
    "print(position)"
   ]
  },
  {
   "cell_type": "code",
   "execution_count": 48,
   "metadata": {},
   "outputs": [
    {
     "name": "stdout",
     "output_type": "stream",
     "text": [
      "True\n",
      "True\n",
      "2\n"
     ]
    }
   ],
   "source": [
    "print(email.startswith('abc'))\n",
    "print(email.endswith('com'))\n",
    "print(email.count('a'))"
   ]
  },
  {
   "cell_type": "code",
   "execution_count": 54,
   "metadata": {},
   "outputs": [
    {
     "name": "stdout",
     "output_type": "stream",
     "text": [
      "!\"#$%&'()*+,-./:;<=>?@[\\]^_`{|}~\n",
      "hello!@#$%^&*()_+ python' ,./<>?;:\"[]world\n",
      "hello python world\n"
     ]
    }
   ],
   "source": [
    "from string import punctuation\n",
    "print(punctuation)\n",
    "s = 'hello!@#$%^&*()_+ python\\' ,./<>?;:\"[]world'\n",
    "print(s)\n",
    "for c in punctuation:\n",
    "    s = s.replace(c, '')\n",
    "print(s)\n"
   ]
  }
 ],
 "metadata": {
  "kernelspec": {
   "display_name": "Python 3.9.12 64-bit",
   "language": "python",
   "name": "python3"
  },
  "language_info": {
   "codemirror_mode": {
    "name": "ipython",
    "version": 3
   },
   "file_extension": ".py",
   "mimetype": "text/x-python",
   "name": "python",
   "nbconvert_exporter": "python",
   "pygments_lexer": "ipython3",
   "version": "3.9.12"
  },
  "orig_nbformat": 4,
  "vscode": {
   "interpreter": {
    "hash": "aee8b7b246df8f9039afb4144a1f6fd8d2ca17a180786b69acc140d282b71a49"
   }
  }
 },
 "nbformat": 4,
 "nbformat_minor": 2
}
