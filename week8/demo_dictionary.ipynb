{
 "cells": [
  {
   "cell_type": "code",
   "execution_count": 3,
   "metadata": {},
   "outputs": [
    {
     "name": "stdout",
     "output_type": "stream",
     "text": [
      "3\n",
      "201 422 113\n"
     ]
    }
   ],
   "source": [
    "rooms = {'Mike': 201, 'John': 422, 'Mary': 113}\n",
    "print(len(rooms))\n",
    "print(rooms['Mike'], rooms['John'], rooms['Mary'])"
   ]
  },
  {
   "cell_type": "code",
   "execution_count": 5,
   "metadata": {},
   "outputs": [
    {
     "name": "stdout",
     "output_type": "stream",
     "text": [
      "No such guest\n"
     ]
    }
   ],
   "source": [
    "# check if a key is in the dictionary and print its value\n",
    "guest = input('Enter guest name: ')\n",
    "if guest in rooms:\n",
    "    print('Room number:', rooms[guest])\n",
    "else:\n",
    "    print('No such guest')"
   ]
  },
  {
   "cell_type": "code",
   "execution_count": 12,
   "metadata": {},
   "outputs": [
    {
     "name": "stdout",
     "output_type": "stream",
     "text": [
      "{'Mike': 201, 'John': 422, 'Mary': 1000, 'Paul': 111, 'Terry': 200, 'Anna': 111}\n"
     ]
    }
   ],
   "source": [
    "# A new guest arrives, add him to the dictionary\n",
    "guest = input('Enter guest name to chekc-in: ')\n",
    "if guest not in rooms:\n",
    "    room = int(input('Enter room number: '))\n",
    "    rooms[guest] = room # add a new key-value pair to the dictionary\n",
    "    print(rooms)\n",
    "else:\n",
    "    print(f'Guest {guest} already in the list')"
   ]
  },
  {
   "cell_type": "code",
   "execution_count": 13,
   "metadata": {},
   "outputs": [
    {
     "name": "stdout",
     "output_type": "stream",
     "text": [
      "{'Mike': 201, 'John': 422, 'Paul': 111, 'Terry': 200, 'Anna': 111}\n"
     ]
    }
   ],
   "source": [
    "# Guest leaves, remove him from the dictionary\n",
    "guest = input('Enter guest name to check-out: ')\n",
    "if guest in rooms:\n",
    "    del rooms[guest]\n",
    "    print(rooms)\n",
    "else:\n",
    "    print(f'Guest {guest} not in the list')"
   ]
  },
  {
   "cell_type": "code",
   "execution_count": 14,
   "metadata": {},
   "outputs": [],
   "source": [
    "students = {'John': 6.5, 'Mary': 8.0, 'Mike': 7.0, 'Bob': 5.0, 'Alice': 9.0, 'Jill': 3.5, 'Jack': 4.0}"
   ]
  },
  {
   "cell_type": "code",
   "execution_count": 16,
   "metadata": {},
   "outputs": [
    {
     "name": "stdout",
     "output_type": "stream",
     "text": [
      "John   :  6.5\n",
      "Mary   :  8.0\n",
      "Mike   :  7.0\n",
      "Bob    :  5.0\n",
      "Alice  :  9.0\n",
      "Jill   :  3.5\n",
      "Jack   :  4.0\n"
     ]
    }
   ],
   "source": [
    "# print all students and their grades\n",
    "for s in students:\n",
    "    print(f'{s:<7s}: {students[s]:>4.1f}')"
   ]
  },
  {
   "cell_type": "code",
   "execution_count": 17,
   "metadata": {},
   "outputs": [
    {
     "name": "stdout",
     "output_type": "stream",
     "text": [
      "Failed students: \n",
      "Jill   :  3.5\n",
      "Jack   :  4.0\n"
     ]
    }
   ],
   "source": [
    "print('Failed students: ')\n",
    "for s, g in students.items():\n",
    "    if g < 5.0:\n",
    "        print(f'{s:<7s}: {g:>4.1f}')"
   ]
  },
  {
   "cell_type": "code",
   "execution_count": 18,
   "metadata": {},
   "outputs": [
    {
     "name": "stdout",
     "output_type": "stream",
     "text": [
      "John   :  6.5\n",
      "Mary   :  8.0\n",
      "Mike   :  7.0\n",
      "Bob    :  5.0\n",
      "Alice  :  9.0\n",
      "Pass rate: 71.43%\n"
     ]
    }
   ],
   "source": [
    "# Print passed students & calculate pass rate of class\n",
    "count_pass = 0\n",
    "for s, g in students.items():\n",
    "    if g >= 5.0:\n",
    "        print(f'{s:<7s}: {g:>4.1f}')\n",
    "        count_pass += 1\n",
    "print(f'Pass rate: {count_pass/len(students):.2%}')"
   ]
  },
  {
   "cell_type": "code",
   "execution_count": 19,
   "metadata": {},
   "outputs": [
    {
     "name": "stdout",
     "output_type": "stream",
     "text": [
      "John   :  6.5\n",
      "Mary   :  8.0\n",
      "Mike   :  7.0\n",
      "Bob    :  5.0\n",
      "Alice  :  9.0\n",
      "Pass rate: 71.43%\n"
     ]
    }
   ],
   "source": [
    "pass_students = [s for s, g in students.items() if g >= 5.0]\n",
    "for s in pass_students:\n",
    "    print(f'{s:<7s}: {students[s]:>4.1f}')\n",
    "print(f'Pass rate: {len(pass_students)/len(students):.2%}')"
   ]
  }
 ],
 "metadata": {
  "kernelspec": {
   "display_name": "Python 3.9.12 64-bit",
   "language": "python",
   "name": "python3"
  },
  "language_info": {
   "codemirror_mode": {
    "name": "ipython",
    "version": 3
   },
   "file_extension": ".py",
   "mimetype": "text/x-python",
   "name": "python",
   "nbconvert_exporter": "python",
   "pygments_lexer": "ipython3",
   "version": "3.9.12"
  },
  "orig_nbformat": 4,
  "vscode": {
   "interpreter": {
    "hash": "aee8b7b246df8f9039afb4144a1f6fd8d2ca17a180786b69acc140d282b71a49"
   }
  }
 },
 "nbformat": 4,
 "nbformat_minor": 2
}
