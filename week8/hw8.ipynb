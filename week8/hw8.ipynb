{
 "cells": [
  {
   "cell_type": "code",
   "execution_count": 17,
   "metadata": {},
   "outputs": [],
   "source": [
    "# A simple program to manage a collection of bitcoin purses.\n",
    "# Each purse has an address and a balance.\n",
    "purses = {}"
   ]
  },
  {
   "cell_type": "code",
   "execution_count": 18,
   "metadata": {},
   "outputs": [],
   "source": [
    "import uuid\n",
    "def generate_address():\n",
    "    # Generate a random bitcoin address\n",
    "    return str(uuid.uuid4())"
   ]
  },
  {
   "cell_type": "code",
   "execution_count": 19,
   "metadata": {},
   "outputs": [],
   "source": [
    "# Add a new purse to the collection\n",
    "def add_purse():\n",
    "    address = generate_address()\n",
    "    balance = 0\n",
    "    # Don't need to check if address is already in purses because\n",
    "    # uuid4() generates a unique random address\n",
    "    purses[address] = balance"
   ]
  },
  {
   "cell_type": "code",
   "execution_count": 20,
   "metadata": {},
   "outputs": [],
   "source": [
    "# TODO: Show all the purses in the collection\n",
    "# For each purse, print the address and the balance\n",
    "def show_purses():\n",
    "    pass"
   ]
  },
  {
   "cell_type": "code",
   "execution_count": 21,
   "metadata": {},
   "outputs": [],
   "source": [
    "# TODO: Withdraw bitcoins from a purse\n",
    "# - check if the address is in the collection\n",
    "# - check if the purse has enough bitcoins\n",
    "# - if so, subtract the amount from the purse's balance\n",
    "# - return true if the withdrawal was successful else false\n",
    "def withdraw(address, amount):\n",
    "    pass"
   ]
  },
  {
   "cell_type": "code",
   "execution_count": 22,
   "metadata": {},
   "outputs": [],
   "source": [
    "# TODO: Deposit bitcoins into a purse\n",
    "# - check if the address is in the collection\n",
    "# - if so, add the amount to the purse's balance\n",
    "# - return true if the deposit was successful else false\n",
    "def deposit(address, amount):\n",
    "    pass"
   ]
  },
  {
   "cell_type": "code",
   "execution_count": 23,
   "metadata": {},
   "outputs": [],
   "source": [
    "# TODO: Transfer bitcoins from one purse to another\n",
    "# - check if the addresses are in the collection\n",
    "# - check if the source purse has enough bitcoins\n",
    "# - if so, subtract the amount from the source purse's balance using withdraw()\n",
    "# - add the amount to the destination purse's balance using deposit()\n",
    "# - return true if the transfer was successful else false\n",
    "def transfer(source, destination, amount):\n",
    "    pass"
   ]
  },
  {
   "cell_type": "code",
   "execution_count": 24,
   "metadata": {},
   "outputs": [],
   "source": [
    "# TODO: Check the balance of a purse\n",
    "# - check if the address is in the collection\n",
    "# - if so, print the purse's balance\n",
    "# - else print an error message\n",
    "def check_balance(address):\n",
    "    pass"
   ]
  },
  {
   "cell_type": "code",
   "execution_count": 25,
   "metadata": {},
   "outputs": [],
   "source": [
    "def print_menu():\n",
    "    print('1. Add a new purse')\n",
    "    print('2. Show all purses')\n",
    "    print('3. Withdraw bitcoins')\n",
    "    print('4. Deposit bitcoins')\n",
    "    print('5. Transfer bitcoins')\n",
    "    print('6. Check balance')\n",
    "    print('7. Quit')"
   ]
  },
  {
   "cell_type": "code",
   "execution_count": 26,
   "metadata": {},
   "outputs": [],
   "source": [
    "def do_task(choice):\n",
    "    if choice == 1:\n",
    "        add_purse()\n",
    "    elif choice == 2:\n",
    "        show_purses()\n",
    "    elif choice == 3:\n",
    "        address = input('Enter address: ')\n",
    "        amount = int(input('Enter amount: '))\n",
    "        if withdraw(address, amount):\n",
    "            print('Withdrawal successful')\n",
    "        else:\n",
    "            print('Withdrawal failed')\n",
    "    elif choice == 4:\n",
    "        address = input('Enter address: ')\n",
    "        amount = int(input('Enter amount: '))\n",
    "        if deposit(address, amount):\n",
    "            print('Deposit successful')\n",
    "        else:\n",
    "            print('Deposit failed')\n",
    "    elif choice == 5:\n",
    "        source = input('Enter source address: ')\n",
    "        destination = input('Enter destination address: ')\n",
    "        amount = int(input('Enter amount: '))\n",
    "        if transfer(source, destination, amount):\n",
    "            print('Transfer successful')\n",
    "        else:\n",
    "            print('Transfer failed')\n",
    "    elif choice == 6:\n",
    "        address = input('Enter address: ')\n",
    "        check_balance(address)\n",
    "    elif choice == 7:\n",
    "        print('Goodbye')\n",
    "    else:\n",
    "        print('Invalid choice')"
   ]
  },
  {
   "cell_type": "code",
   "execution_count": 28,
   "metadata": {},
   "outputs": [
    {
     "name": "stdout",
     "output_type": "stream",
     "text": [
      "1. Add a new purse\n",
      "2. Show all purses\n",
      "3. Withdraw bitcoins\n",
      "4. Deposit bitcoins\n",
      "5. Transfer bitcoins\n",
      "6. Check balance\n",
      "7. Quit\n",
      "1. Add a new purse\n",
      "2. Show all purses\n",
      "3. Withdraw bitcoins\n",
      "4. Deposit bitcoins\n",
      "5. Transfer bitcoins\n",
      "6. Check balance\n",
      "7. Quit\n",
      "1. Add a new purse\n",
      "2. Show all purses\n",
      "3. Withdraw bitcoins\n",
      "4. Deposit bitcoins\n",
      "5. Transfer bitcoins\n",
      "6. Check balance\n",
      "7. Quit\n"
     ]
    },
    {
     "ename": "ValueError",
     "evalue": "invalid literal for int() with base 10: ''",
     "output_type": "error",
     "traceback": [
      "\u001b[0;31m---------------------------------------------------------------------------\u001b[0m",
      "\u001b[0;31mValueError\u001b[0m                                Traceback (most recent call last)",
      "\u001b[1;32m/Volumes/GoogleDrive/My Drive/FPTU/Program 3+0/COMP1753/CO1101/Python code/week8/hw8.ipynb Cell 11\u001b[0m in \u001b[0;36m<cell line: 4>\u001b[0;34m()\u001b[0m\n\u001b[1;32m      <a href='vscode-notebook-cell:/Volumes/GoogleDrive/My%20Drive/FPTU/Program%203%2B0/COMP1753/CO1101/Python%20code/week8/hw8.ipynb#X12sZmlsZQ%3D%3D?line=3'>4</a>\u001b[0m \u001b[39mwhile\u001b[39;00m running:\n\u001b[1;32m      <a href='vscode-notebook-cell:/Volumes/GoogleDrive/My%20Drive/FPTU/Program%203%2B0/COMP1753/CO1101/Python%20code/week8/hw8.ipynb#X12sZmlsZQ%3D%3D?line=4'>5</a>\u001b[0m     print_menu()\n\u001b[0;32m----> <a href='vscode-notebook-cell:/Volumes/GoogleDrive/My%20Drive/FPTU/Program%203%2B0/COMP1753/CO1101/Python%20code/week8/hw8.ipynb#X12sZmlsZQ%3D%3D?line=5'>6</a>\u001b[0m     choice \u001b[39m=\u001b[39m \u001b[39mint\u001b[39;49m(\u001b[39minput\u001b[39;49m(\u001b[39m\"\u001b[39;49m\u001b[39mEnter your choice: \u001b[39;49m\u001b[39m\"\u001b[39;49m))\n\u001b[1;32m      <a href='vscode-notebook-cell:/Volumes/GoogleDrive/My%20Drive/FPTU/Program%203%2B0/COMP1753/CO1101/Python%20code/week8/hw8.ipynb#X12sZmlsZQ%3D%3D?line=6'>7</a>\u001b[0m     do_task(choice)\n\u001b[1;32m      <a href='vscode-notebook-cell:/Volumes/GoogleDrive/My%20Drive/FPTU/Program%203%2B0/COMP1753/CO1101/Python%20code/week8/hw8.ipynb#X12sZmlsZQ%3D%3D?line=7'>8</a>\u001b[0m     running \u001b[39m=\u001b[39m choice \u001b[39m!=\u001b[39m EXIT\n",
      "\u001b[0;31mValueError\u001b[0m: invalid literal for int() with base 10: ''"
     ]
    }
   ],
   "source": [
    "### Main program ###\n",
    "EXIT = 7\n",
    "running = True\n",
    "while running:\n",
    "    print_menu()\n",
    "    choice = int(input(\"Enter your choice: \"))\n",
    "    do_task(choice)\n",
    "    running = choice != EXIT"
   ]
  }
 ],
 "metadata": {
  "kernelspec": {
   "display_name": "Python 3.9.12 64-bit",
   "language": "python",
   "name": "python3"
  },
  "language_info": {
   "codemirror_mode": {
    "name": "ipython",
    "version": 3
   },
   "file_extension": ".py",
   "mimetype": "text/x-python",
   "name": "python",
   "nbconvert_exporter": "python",
   "pygments_lexer": "ipython3",
   "version": "3.9.12"
  },
  "orig_nbformat": 4,
  "vscode": {
   "interpreter": {
    "hash": "aee8b7b246df8f9039afb4144a1f6fd8d2ca17a180786b69acc140d282b71a49"
   }
  }
 },
 "nbformat": 4,
 "nbformat_minor": 2
}
