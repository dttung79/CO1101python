{
 "cells": [
  {
   "cell_type": "code",
   "execution_count": 1,
   "metadata": {},
   "outputs": [],
   "source": [
    "# Give shool years & corresponding number of students\n",
    "school_years = [2010, 2011, 2012, 2013, 2014, 2015, 2016, 2017, 2018, 2019]\n",
    "total_students = [3115, 3420, 3287, 2998, 3514, 3184, 3337, 3409, 3240, 3451]"
   ]
  },
  {
   "cell_type": "code",
   "execution_count": 2,
   "metadata": {},
   "outputs": [
    {
     "name": "stdout",
     "output_type": "stream",
     "text": [
      "Sum of number students in odd years: 16462\n",
      "Sum of number students in even years: 16493\n"
     ]
    }
   ],
   "source": [
    "# Ex1.1: Calculte the sum of total number of students in odd years\n",
    "total_odds = total_students[1::2]\n",
    "print(f'Sum of number students in odd years: {sum(total_odds)}')\n",
    "# Ex1.2: Calculte the sum of total number of students in even years\n",
    "total_evens = total_students[::2]\n",
    "print(f'Sum of number students in even years: {sum(total_evens)}')"
   ]
  },
  {
   "cell_type": "code",
   "execution_count": 4,
   "metadata": {},
   "outputs": [
    {
     "name": "stdout",
     "output_type": "stream",
     "text": [
      "Most students enrolled in: 2014\n",
      "Most students enrolled in: 2013\n"
     ]
    }
   ],
   "source": [
    "# Ex2.1: Find the year when there are the most students enrolled\n",
    "max_total = max(total_students)\n",
    "index_max = total_students.index(max_total)\n",
    "print(f'Most students enrolled in: {school_years[index_max]}')\n",
    "# Ex2.2: Find the year when there are the least students enrolled\n",
    "print(f'Most students enrolled in: {school_years[total_students.index(min(total_students))]}')"
   ]
  },
  {
   "cell_type": "code",
   "execution_count": 9,
   "metadata": {},
   "outputs": [
    {
     "name": "stdout",
     "output_type": "stream",
     "text": [
      "Average number of students: 3295.5\n",
      "Years when number of students is above average: [2011, 2014, 2016, 2017, 2019]\n"
     ]
    }
   ],
   "source": [
    "# Ex3: Calculate the average number of students and find years \n",
    "# when the number of students is above the average\n",
    "avg_total = sum(total_students) / len(total_students)\n",
    "years_gt_avg = [school_years[i] for i in range(len(total_students)) if total_students[i] > avg_total]\n",
    "print(f'Average number of students: {avg_total}')\n",
    "print(f'Years when number of students is above average: {years_gt_avg}')"
   ]
  },
  {
   "cell_type": "code",
   "execution_count": 5,
   "metadata": {},
   "outputs": [
    {
     "name": "stdout",
     "output_type": "stream",
     "text": [
      "Number of students in 2014: 3514\n"
     ]
    }
   ],
   "source": [
    "# Ex4: User enters a year, find the number of students in that year\n",
    "# If the year is not in the list, print \"No data\"\n",
    "year = int(input('Enter a year: '))\n",
    "if year in school_years:\n",
    "    print(f'Number of students in {year}: {total_students[school_years.index(year)]}')\n",
    "else:\n",
    "    print('No data')"
   ]
  },
  {
   "cell_type": "code",
   "execution_count": 11,
   "metadata": {},
   "outputs": [
    {
     "name": "stdout",
     "output_type": "stream",
     "text": [
      "Number of years when number of students increases: 5\n",
      "Number of years when number of students decreases: 4\n"
     ]
    }
   ],
   "source": [
    "# Ex5: Count how many times the number of students increases from one year to the next\n",
    "# and how many times it decreases. \n",
    "# For example, from 2010 to 2011, the number of students increases\n",
    "# and from 2011 to 2012, the number of students decreases.\n",
    "n = len(total_students)\n",
    "increase_years = [school_years[+1] for i in range(n-1) if total_students[i+1] > total_students[i]]\n",
    "print(f'Number of years when number of students increases: {len(increase_years)}')\n",
    "decrease_years = [school_years[+1] for i in range(n-1) if total_students[i+1] < total_students[i]]\n",
    "print(f'Number of years when number of students decreases: {len(decrease_years)}')"
   ]
  },
  {
   "cell_type": "code",
   "execution_count": 8,
   "metadata": {},
   "outputs": [
    {
     "name": "stdout",
     "output_type": "stream",
     "text": [
      "[1, -2, -3, 4]\n",
      "[2, -4, -6, 8]\n",
      "[-4, 8]\n",
      "[2, 4, 6, 8]\n"
     ]
    }
   ],
   "source": [
    "# List comprehension: [x for y in z if condition]\n",
    "numbers = [1, -2, -3, 4]\n",
    "doubles = [x * 2 for x in numbers]\n",
    "print(numbers)\n",
    "print(doubles)\n",
    "double_evens = [x * 2 for x in numbers if x % 2 == 0]\n",
    "print(double_evens)\n",
    "double_absolutes = [x*2 if x > 0 else -x*2 for x in numbers]\n",
    "print(double_absolutes)"
   ]
  }
 ],
 "metadata": {
  "kernelspec": {
   "display_name": "Python 3.9.12 64-bit",
   "language": "python",
   "name": "python3"
  },
  "language_info": {
   "codemirror_mode": {
    "name": "ipython",
    "version": 3
   },
   "file_extension": ".py",
   "mimetype": "text/x-python",
   "name": "python",
   "nbconvert_exporter": "python",
   "pygments_lexer": "ipython3",
   "version": "3.9.12"
  },
  "orig_nbformat": 4,
  "vscode": {
   "interpreter": {
    "hash": "aee8b7b246df8f9039afb4144a1f6fd8d2ca17a180786b69acc140d282b71a49"
   }
  }
 },
 "nbformat": 4,
 "nbformat_minor": 2
}
